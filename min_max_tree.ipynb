{
 "cells": [
  {
   "cell_type": "markdown",
   "metadata": {},
   "source": [
    "# Min-Max Tree ile Kelime Oyunu\n",
    "* Burada oluşturulan ağacın her düğümünün, çocuk düğümlerden oluşacak diziyi tutmak için bir alanı, kelime tutmak için bir alanı ve yerine göre kullanımı farklılık gösterecek bir skor sayısı tutacak alanı bulunmaktadır."
   ]
  },
  {
   "cell_type": "code",
   "execution_count": 1,
   "metadata": {},
   "outputs": [],
   "source": [
    "class tree:\n",
    "    def __init__(self, root_word, score = 0, children = None):\n",
    "        self.root_word = root_word\n",
    "        self.score = score\n",
    "        self.children = children"
   ]
  },
  {
   "cell_type": "markdown",
   "metadata": {},
   "source": [
    "## Skorlama Fonksiyonu\n",
    "* Burada harflere atanan puanlar Kelimelik isimli oyunda harflere atanan puanlar ile aynı olarak alınmıştır.\n",
    "* Kelimedeki her harfin puanı toplanarak o kelimenin skoru elde edilir."
   ]
  },
  {
   "cell_type": "code",
   "execution_count": 2,
   "metadata": {},
   "outputs": [],
   "source": [
    "scores = {'a': 1,'b':3,'c':4,'ç':4,'d':3,\n",
    "          'e':1,'f':7,'g':5,'ğ':8,'h':5,\n",
    "          'ı':2,'i':1,'j':10,'k':1,'l':1,\n",
    "          'm':2,'n':1,'o':2,'ö':7,'p':5,\n",
    "          'r':1,'s':2,'ş':4,'t':1,'u':2,\n",
    "          'ü':3,'v':7,'y':3,'z':4}\n",
    "\n",
    "def scoring(word):\n",
    "    score = 0\n",
    "    for i in word:\n",
    "        score += scores[i]\n",
    "    return score"
   ]
  },
  {
   "cell_type": "markdown",
   "metadata": {},
   "source": [
    "* Önceden oluşturulan sözlük (turkish_dict.pkl) burada sözlük yapısını tutacak **words_dict** isimli değişkenin içine okunur."
   ]
  },
  {
   "cell_type": "code",
   "execution_count": 3,
   "metadata": {},
   "outputs": [],
   "source": [
    "import pickle\n",
    "\n",
    "a_file = open(\"turkish_dict.pkl\", \"rb\")\n",
    "words_dict = pickle.load(a_file)"
   ]
  },
  {
   "cell_type": "markdown",
   "metadata": {},
   "source": [
    "### Sözlük Maskeleme ile Zorluk Seçimi\n",
    "* Bu fonksiyonda kullanıcı tarafınfan seçilen zorluk oranı ile ters orantılı olarak ajanın kelimelere bakabileceği sözlük geçici olarak maskelenmektedir.\n",
    "* Sözlük maskelenmesi hem oyunda çeşitlilik oluşturmakta hem de kullanıcı tecrübesini iyileştirmektedir. "
   ]
  },
  {
   "cell_type": "code",
   "execution_count": 4,
   "metadata": {},
   "outputs": [],
   "source": [
    "import numpy as np\n",
    "\n",
    "def mask_vocab(list_of_words, difficulty):\n",
    "    \n",
    "    len_list = len(list_of_words)\n",
    "    \n",
    "    if difficulty == 'very easy':\n",
    "        return np.random.choice(list_of_words, int(len_list * 0.2))\n",
    "    elif difficulty == 'easy':\n",
    "        return np.random.choice(list_of_words, int(len_list * 0.4))\n",
    "    elif difficulty == 'medium':\n",
    "        return np.random.choice(list_of_words, int(len_list * 0.6))\n",
    "    elif difficulty == 'hard':\n",
    "        return np.random.choice(list_of_words, int(len_list * 0.8))\n",
    "    elif difficulty == 'very hard':\n",
    "        return np.random.choice(list_of_words, int(len_list * 0.99))"
   ]
  },
  {
   "cell_type": "code",
   "execution_count": 5,
   "metadata": {},
   "outputs": [],
   "source": [
    "a = mask_vocab(words_dict['a'], 'very easy')"
   ]
  },
  {
   "cell_type": "code",
   "execution_count": 6,
   "metadata": {},
   "outputs": [
    {
     "data": {
      "text/plain": [
       "915"
      ]
     },
     "execution_count": 6,
     "metadata": {},
     "output_type": "execute_result"
    }
   ],
   "source": [
    "len(a)"
   ]
  },
  {
   "cell_type": "markdown",
   "metadata": {},
   "source": [
    "## Ağaç Oluşturma Fonksiyonu\n",
    "* Öncelikle bir düğüm oluşturulur ve parametre olarak gönderilen kelime bu düğüme atanır.\n",
    "* Ardından bu düğümün çocuk düğümleri tek tek oluşturulur. Bu çocuk düğümlerin sayısı sözlükte ana düğümün son harfiyle başlayan kelime sayısı kadardır.\n",
    "* Çocukların tuttukları kelimeler ise yine ana düğümün son harfiyle başlayan kelimelerdir.\n",
    "* 'ğ' harfi ile biten kelimelerin çocuk düğümleri 'g' harfi ile başlayan kelimelerden oluşturulmaktadır.\n",
    "* Düğümlerin skor alanlarında tutulacak bilgiler ise kelimenin kendi skoru değil çocuk düğümleri arasındaki en büyük skora sahip kelimenin skorudur.\n",
    "* Aşağıdaki çizimde bu yapı daha ayrıntılı anlatılmıştır."
   ]
  },
  {
   "cell_type": "code",
   "execution_count": 7,
   "metadata": {},
   "outputs": [],
   "source": [
    "def create_tree(root_word, difficulty):\n",
    "    \n",
    "    if difficulty == 1:\n",
    "        difficulty = 'very easy'\n",
    "    elif difficulty == 2:\n",
    "        difficulty = 'easy'    \n",
    "    elif difficulty == 3:\n",
    "        difficulty = 'medium'    \n",
    "    elif difficulty == 4:\n",
    "        difficulty = 'hard'\n",
    "    elif difficulty == 5:\n",
    "        difficulty = 'very hard'\n",
    "    \n",
    "    root = tree(root_word)\n",
    "    children = []\n",
    "    \n",
    "    letter_for_dict = 'x'\n",
    "    \n",
    "    if root_word[-1] == 'ğ':\n",
    "        letter_for_dict = 'g'\n",
    "    else:\n",
    "        letter_for_dict = root_word[-1]   \n",
    "    \n",
    "    masked_words = mask_vocab(words_dict[letter_for_dict], difficulty)\n",
    "    \n",
    "    for word in masked_words:\n",
    "        tmp_node = tree(word)\n",
    "        \n",
    "        letter_for_dict_2 = 'x'\n",
    "        if word[-1] == 'ğ':\n",
    "            letter_for_dict_2 = 'g'\n",
    "        else:\n",
    "            letter_for_dict_2 = word[-1]\n",
    "            \n",
    "        maximum = 0\n",
    "        for w in words_dict[letter_for_dict_2]:\n",
    "            score_w = scoring(w)\n",
    "            if score_w > maximum:\n",
    "                maximum = score_w\n",
    "        tmp_node.score = maximum \n",
    "    \n",
    "        children.append(tmp_node)\n",
    "        \n",
    "    root.children = children\n",
    "    return root"
   ]
  },
  {
   "cell_type": "markdown",
   "metadata": {},
   "source": [
    "<img src=\"minmax_tree.png\">"
   ]
  },
  {
   "cell_type": "code",
   "execution_count": 8,
   "metadata": {},
   "outputs": [],
   "source": [
    "root = create_tree('toprak', 5)"
   ]
  },
  {
   "cell_type": "markdown",
   "metadata": {},
   "source": [
    "## Ajanın Kelime Seçimi\n",
    "* Buradaki fonksiyonu kullanarak kelime seçen ajan, kelimeleri seçerken rakibinin **minimum puan** alabileceği harflerle biten ve kendisinin de **maksimum puan** alabileceği kelimeyi seçmektedir."
   ]
  },
  {
   "cell_type": "code",
   "execution_count": 9,
   "metadata": {},
   "outputs": [],
   "source": [
    "def choose_best_word(root, forbidden_words, max_len):\n",
    "    min_score = root.children[0].score\n",
    "    min_index = 0\n",
    "    max_word = 'a'\n",
    "\n",
    "    for i, child_node in enumerate(root.children):\n",
    "        if child_node.score <= min_score:\n",
    "            min_score = child_node.score\n",
    "            min_index = i\n",
    "            \n",
    "            if (scoring(child_node.root_word) > scoring(max_word)) and (child_node.root_word not in forbidden_words) and len(child_node.root_word) <= max_len:\n",
    "                max_word = child_node.root_word\n",
    "    return max_word"
   ]
  },
  {
   "cell_type": "markdown",
   "metadata": {},
   "source": [
    "* max_len parametresi oyunun ikinci versiyonunda kullanılacak bir parametredir."
   ]
  },
  {
   "cell_type": "code",
   "execution_count": 10,
   "metadata": {},
   "outputs": [
    {
     "data": {
      "text/plain": [
       "'kumrugöğsü'"
      ]
     },
     "execution_count": 10,
     "metadata": {},
     "output_type": "execute_result"
    }
   ],
   "source": [
    "choose_best_word(root, [], 100) "
   ]
  },
  {
   "cell_type": "markdown",
   "metadata": {},
   "source": [
    "## İlk Oyun (v1.0)\n",
    "* Bu oyun geliştirilmekte olan oyunun ilk versiyonudur ve kelime tahtası bulunmamaktadır.\n",
    "* Burada kullanıcının yazdığı kelime ile oyun başlar. Girilen kelimenin sözlükte bulunup bulunmadığı kontrol edilir ve varsa sıra ajana geçer.\n",
    "* Ajan, kullanıcının girdiği kelimenin son harfiyle başlayan, sözlükte bulunan, kendisine **en çok** puanı kazandıracak ve yazdığı kelimenin son harfini rakibinin **en az** puan kazanabileceği şekilde olduğu kelimeyi seçmektedir.\n",
    "* Hem oyuncu hem de ajan daha önce kullanılmış bir kelimeyi de seçememektedir.\n",
    "* Parametre olarak gönderilen puana ilk ulaşan kazanır."
   ]
  },
  {
   "cell_type": "code",
   "execution_count": 11,
   "metadata": {},
   "outputs": [],
   "source": [
    "def first_game(max_score = 200):\n",
    "    toggle = 1 # 0 - user // 1 - agent\n",
    "    \n",
    "    forbidden_words = []\n",
    "    \n",
    "    user_word = input('İlk kelimeyi giriniz: ')\n",
    "    if user_word == '.':\n",
    "        print(\"Çıkış yapılıyor...\")\n",
    "        return\n",
    "    while user_word not in words_dict[user_word[0]]:\n",
    "        print(\"Sözlükte bulunan bir kelime giriniz...\")\n",
    "        user_word = input('İlk kelimeyi giriniz: ')\n",
    "    difficulty = 4\n",
    "    user_score = scoring(user_word)\n",
    "    print(\"Skorunuz : \", user_score)\n",
    "    forbidden_words.append(user_word)\n",
    "    agent_score = 0\n",
    "    print(\"-\"*50)\n",
    "    while(True):\n",
    "        if toggle == 1:\n",
    "            root = create_tree(user_word, difficulty)\n",
    "            agent_word = choose_best_word(root, forbidden_words, 100)\n",
    "            print(\"Ajanın Kelimesi : \", agent_word)\n",
    "            agent_score += scoring(agent_word)\n",
    "            toggle = 0\n",
    "            print(\"Ajanın puanı : \", agent_score)\n",
    "            forbidden_words.append(agent_word)\n",
    "            if agent_score >= max_score:\n",
    "                print(\"Ajan kazandı :D\")\n",
    "                return\n",
    "        print(\"-\"*50)\n",
    "        if toggle == 0:\n",
    "            #root = create_tree(user_word)\n",
    "            #user_word = choose_best_word(root)\n",
    "            \n",
    "            user_word = input('Kelimeniz: ')\n",
    "            if user_word == '.':\n",
    "                print(\"Çıkış yapılıyor...\")\n",
    "                return\n",
    "            #print(user_word not in words_dict[user_word[0]])\n",
    "            while (user_word not in words_dict[user_word[0]]) or (user_word[0] != agent_word[-1]) or (user_word in forbidden_words):\n",
    "                if (user_word[0] != agent_word[-1]):\n",
    "                    print(\"Son kelimenin son harfiyle başlayan bir kelime giriniz!\")\n",
    "                if (user_word not in words_dict[user_word[0]]):\n",
    "                    print(\"Sözlükte bulunan bir kelime giriniz!\")\n",
    "                if (user_word in forbidden_words):\n",
    "                    print(\"Daha önce kullanılmayan bir kelime giriniz!\")\n",
    "                \n",
    "                #print(user_word[0], agent_word[-1], user_word)\n",
    "                user_word = input('Kelimeniz: ')\n",
    "                if user_word == '.':\n",
    "                    print(\"Çıkış yapılıyor...\")\n",
    "                    return\n",
    "            forbidden_words.append(user_word)\n",
    "            user_score += scoring(user_word)\n",
    "            toggle = 1\n",
    "            print(\"Skorunuz : \", user_score)\n",
    "            if user_score >= max_score:\n",
    "                print(\"Siz kazandınız.\")\n",
    "                return\n",
    "        print(\"-\"*50)"
   ]
  },
  {
   "cell_type": "markdown",
   "metadata": {},
   "source": [
    "* Oyundan çıkış yapmak için '.' karakterini giriniz."
   ]
  },
  {
   "cell_type": "code",
   "execution_count": 14,
   "metadata": {},
   "outputs": [
    {
     "name": "stdin",
     "output_type": "stream",
     "text": [
      "İlk kelimeyi giriniz:  kalem\n"
     ]
    },
    {
     "name": "stdout",
     "output_type": "stream",
     "text": [
      "Skorunuz :  6\n",
      "--------------------------------------------------\n",
      "Ajanın Kelimesi :  mizanpajlı\n",
      "Ajanın puanı :  28\n",
      "--------------------------------------------------\n"
     ]
    },
    {
     "name": "stdin",
     "output_type": "stream",
     "text": [
      "Kelimeniz:  ıspanak\n"
     ]
    },
    {
     "name": "stdout",
     "output_type": "stream",
     "text": [
      "Skorunuz :  19\n",
      "--------------------------------------------------\n",
      "Ajanın Kelimesi :  katranköpüğü\n",
      "Ajanın puanı :  61\n",
      "--------------------------------------------------\n"
     ]
    },
    {
     "name": "stdin",
     "output_type": "stream",
     "text": [
      "Kelimeniz:  üfürmek\n"
     ]
    },
    {
     "name": "stdout",
     "output_type": "stream",
     "text": [
      "Skorunuz :  37\n",
      "--------------------------------------------------\n",
      "Ajanın Kelimesi :  kumrugöğsü\n",
      "Ajanın puanı :  94\n",
      "--------------------------------------------------\n"
     ]
    },
    {
     "name": "stdin",
     "output_type": "stream",
     "text": [
      "Kelimeniz:  ülke\n"
     ]
    },
    {
     "name": "stdout",
     "output_type": "stream",
     "text": [
      "Skorunuz :  43\n",
      "--------------------------------------------------\n",
      "Ajanın Kelimesi :  ebekuşağı\n",
      "Ajanın puanı :  117\n",
      "--------------------------------------------------\n"
     ]
    },
    {
     "name": "stdin",
     "output_type": "stream",
     "text": [
      "Kelimeniz:  .\n"
     ]
    },
    {
     "name": "stdout",
     "output_type": "stream",
     "text": [
      "Çıkış yapılıyor...\n"
     ]
    }
   ],
   "source": [
    "first_game(max_score = 200)"
   ]
  },
  {
   "cell_type": "markdown",
   "metadata": {},
   "source": [
    "## Kelime Tahtası ile Oyun (v2.0)"
   ]
  },
  {
   "cell_type": "markdown",
   "metadata": {},
   "source": [
    "* Verilen boyutlarda kare bir oyun tahtası oluşturur."
   ]
  },
  {
   "cell_type": "code",
   "execution_count": 15,
   "metadata": {},
   "outputs": [],
   "source": [
    "def make_board(size):\n",
    "    return [[\" \" for i in range(size)] for j in range(size)]"
   ]
  },
  {
   "cell_type": "markdown",
   "metadata": {},
   "source": [
    "* Tahtayı ve oyuncuların skorlarını ekrana bastırır."
   ]
  },
  {
   "cell_type": "code",
   "execution_count": 16,
   "metadata": {},
   "outputs": [],
   "source": [
    "def print_board(board,user_score, agent_score):\n",
    "    print(\"-\"*50)\n",
    "    print(\"Sizin Skorunuz : \", user_score)\n",
    "    print(\"Ajanın Skoru   : \", agent_score)\n",
    "    print(\"-\"*50)\n",
    "    for j,row in enumerate(board):\n",
    "        print(j,end=\"\\t\")\n",
    "        for i,square in enumerate(row):\n",
    "            if square == \"☐\":\n",
    "                print(square, end = \" \")\n",
    "                row[i] = \" \"\n",
    "            elif square != \" \":\n",
    "                print(square, end= \" \"),\n",
    "            else:\n",
    "                print('.', end= \" \"),\n",
    "        print(\"\")\n",
    "    print(\"-\"*50)"
   ]
  },
  {
   "cell_type": "markdown",
   "metadata": {},
   "source": [
    "### Kelimenin Tahtaya Yerleştirilmesi\n",
    "* Oyun tahtası, tahtanın boyutu, tahtaya yazılacak kelime, kelimenin yazılmaya başlanacağı koordinat ve hangi yöne doğru yazılacağı bilgileri parametre olarak fonksiyona gönderilir.\n",
    "* Başlangıç noktaları tahtanın dışına tekabül ediyorsa hata verilir.\n",
    "* Seçilen yönde kelimenin önünde başka bir kelime varsa veya seçilen yönde yeterli boşluk yoksa hata verilir.\n",
    "* Eğer hata yoksa kelime tahtaya verilen başlangıç noktasından verilen yöne doğru yazılır."
   ]
  },
  {
   "cell_type": "code",
   "execution_count": 17,
   "metadata": {},
   "outputs": [],
   "source": [
    "def put_board(board, board_size, word, start_x, start_y, direction):\n",
    "    \n",
    "    if start_x > board_size-1 or start_y > board_size-1:\n",
    "        print(\"Tahtanın dışına kelime yazamazsınız!\")\n",
    "        return False,0,0\n",
    "    \n",
    "    \n",
    "    len_word = len(word)\n",
    "    if direction == 'right':\n",
    "        if (start_y + len_word) > board_size:\n",
    "            print(\"Kelime tahtaya sığmadı!\")\n",
    "            return False,0,0\n",
    "        \n",
    "        for i in range(len_word):\n",
    "            if board[start_x][start_y + i] != ' ':\n",
    "                print(\"Kelime diğer kelimelerden biriyle çakıştı!\")\n",
    "                return False,0,0\n",
    "        for i in range(len_word):\n",
    "            board[start_x][start_y + i] = word[i]\n",
    "            \n",
    "        return True, start_x, start_y+len_word-1\n",
    "    \n",
    "    if direction == 'left':\n",
    "        if (start_y - len_word) < -1:\n",
    "            print(\"Kelime tahtaya sığmadı!\")\n",
    "            return False,0,0\n",
    "        \n",
    "        for i in range(len_word):\n",
    "            if board[start_x][start_y - i] != ' ':\n",
    "                print(\"Kelime diğer kelimelerden biriyle çakıştı!\")\n",
    "                return False,0,0 \n",
    "        for i in range(len_word):\n",
    "            board[start_x][start_y - i] = word[i]\n",
    "        \n",
    "        return True, start_x, start_y-len_word+1\n",
    "    \n",
    "    if direction == 'up':\n",
    "        if (start_x - len_word) < -1:\n",
    "            print(\"Kelime tahtaya sığmadı!\")\n",
    "            return False,0,0\n",
    "        \n",
    "        for i in range(len_word):\n",
    "            if board[start_x - i][start_y] != ' ':\n",
    "                print(\"Kelime diğer kelimelerden biriyle çakıştı!\")\n",
    "                return False,0,0 \n",
    "        for i in range(len_word):\n",
    "            board[start_x - i][start_y] = word[i]\n",
    "        \n",
    "        return True, start_x-len_word+1, start_y \n",
    "    \n",
    "    if direction == 'down':\n",
    "        if (start_x + len_word) > board_size:\n",
    "            print(\"Kelime tahtaya sığmadı!\")\n",
    "            return False,0,0\n",
    "        \n",
    "        for i in range(len_word):\n",
    "            if board[start_x + i][start_y] != ' ':\n",
    "                print(\"Kelime diğer kelimelerden biriyle çakıştı!\")\n",
    "                return False,0,0 \n",
    "        for i in range(len_word):\n",
    "            board[start_x + i][start_y] = word[i]\n",
    "        \n",
    "        return True, start_x+len_word-1, start_y    "
   ]
  },
  {
   "cell_type": "code",
   "execution_count": 18,
   "metadata": {},
   "outputs": [],
   "source": [
    "board_size = 20\n",
    "board = make_board(board_size)"
   ]
  },
  {
   "cell_type": "markdown",
   "metadata": {},
   "source": [
    "#### Kullanım denemeleri : "
   ]
  },
  {
   "cell_type": "code",
   "execution_count": 19,
   "metadata": {},
   "outputs": [
    {
     "data": {
      "text/plain": [
       "(True, 14, 3)"
      ]
     },
     "execution_count": 19,
     "metadata": {},
     "output_type": "execute_result"
    }
   ],
   "source": [
    "put_board(board, board_size, 'ailecek', 2,1,'right')\n",
    "put_board(board, board_size, 'ailecek', 8,3,'down')"
   ]
  },
  {
   "cell_type": "code",
   "execution_count": 20,
   "metadata": {},
   "outputs": [
    {
     "name": "stdout",
     "output_type": "stream",
     "text": [
      "--------------------------------------------------\n",
      "Sizin Skorunuz :  0\n",
      "Ajanın Skoru   :  0\n",
      "--------------------------------------------------\n",
      "0\t. . . . . . . . . . . . . . . . . . . . \n",
      "1\t. . . . . . . . . . . . . . . . . . . . \n",
      "2\t. a i l e c e k . . . . . . . . . . . . \n",
      "3\t. . . . . . . . . . . . . . . . . . . . \n",
      "4\t. . . . . . . . . . . . . . . . . . . . \n",
      "5\t. . . . . . . . . . . . . . . . . . . . \n",
      "6\t. . . . . . . . . . . . . . . . . . . . \n",
      "7\t. . . . . . . . . . . . . . . . . . . . \n",
      "8\t. . . a . . . . . . . . . . . . . . . . \n",
      "9\t. . . i . . . . . . . . . . . . . . . . \n",
      "10\t. . . l . . . . . . . . . . . . . . . . \n",
      "11\t. . . e . . . . . . . . . . . . . . . . \n",
      "12\t. . . c . . . . . . . . . . . . . . . . \n",
      "13\t. . . e . . . . . . . . . . . . . . . . \n",
      "14\t. . . k . . . . . . . . . . . . . . . . \n",
      "15\t. . . . . . . . . . . . . . . . . . . . \n",
      "16\t. . . . . . . . . . . . . . . . . . . . \n",
      "17\t. . . . . . . . . . . . . . . . . . . . \n",
      "18\t. . . . . . . . . . . . . . . . . . . . \n",
      "19\t. . . . . . . . . . . . . . . . . . . . \n",
      "--------------------------------------------------\n"
     ]
    }
   ],
   "source": [
    "print_board(board,0,0)"
   ]
  },
  {
   "cell_type": "code",
   "execution_count": 21,
   "metadata": {},
   "outputs": [
    {
     "name": "stdout",
     "output_type": "stream",
     "text": [
      "Tahtanın dışına kelime yazamazsınız!\n"
     ]
    },
    {
     "data": {
      "text/plain": [
       "(False, 0, 0)"
      ]
     },
     "execution_count": 21,
     "metadata": {},
     "output_type": "execute_result"
    }
   ],
   "source": [
    "put_board(board, board_size, 'ailecek', 20,20,'right')"
   ]
  },
  {
   "cell_type": "code",
   "execution_count": 22,
   "metadata": {},
   "outputs": [
    {
     "name": "stdout",
     "output_type": "stream",
     "text": [
      "Kelime tahtaya sığmadı!\n"
     ]
    },
    {
     "data": {
      "text/plain": [
       "(False, 0, 0)"
      ]
     },
     "execution_count": 22,
     "metadata": {},
     "output_type": "execute_result"
    }
   ],
   "source": [
    "put_board(board, board_size, 'ailecek', 10,15,'right')"
   ]
  },
  {
   "cell_type": "code",
   "execution_count": 23,
   "metadata": {},
   "outputs": [
    {
     "data": {
      "text/plain": [
       "(True, 18, 13)"
      ]
     },
     "execution_count": 23,
     "metadata": {},
     "output_type": "execute_result"
    }
   ],
   "source": [
    "put_board(board, board_size, 'ai', 17,13,'down')"
   ]
  },
  {
   "cell_type": "code",
   "execution_count": 24,
   "metadata": {},
   "outputs": [
    {
     "data": {
      "text/plain": [
       "(True, 19, 0)"
      ]
     },
     "execution_count": 24,
     "metadata": {},
     "output_type": "execute_result"
    }
   ],
   "source": [
    "put_board(board, board_size, 'aile', 19,3,'left')"
   ]
  },
  {
   "cell_type": "code",
   "execution_count": 25,
   "metadata": {},
   "outputs": [
    {
     "name": "stdout",
     "output_type": "stream",
     "text": [
      "--------------------------------------------------\n",
      "Sizin Skorunuz :  0\n",
      "Ajanın Skoru   :  0\n",
      "--------------------------------------------------\n",
      "0\t. . . . . . . . . . . . . . . . . . . . \n",
      "1\t. . . . . . . . . . . . . . . . . . . . \n",
      "2\t. a i l e c e k . . . . . . . . . . . . \n",
      "3\t. . . . . . . . . . . . . . . . . . . . \n",
      "4\t. . . . . . . . . . . . . . . . . . . . \n",
      "5\t. . . . . . . . . . . . . . . . . . . . \n",
      "6\t. . . . . . . . . . . . . . . . . . . . \n",
      "7\t. . . . . . . . . . . . . . . . . . . . \n",
      "8\t. . . a . . . . . . . . . . . . . . . . \n",
      "9\t. . . i . . . . . . . . . . . . . . . . \n",
      "10\t. . . l . . . . . . . . . . . . . . . . \n",
      "11\t. . . e . . . . . . . . . . . . . . . . \n",
      "12\t. . . c . . . . . . . . . . . . . . . . \n",
      "13\t. . . e . . . . . . . . . . . . . . . . \n",
      "14\t. . . k . . . . . . . . . . . . . . . . \n",
      "15\t. . . . . . . . . . . . . . . . . . . . \n",
      "16\t. . . . . . . . . . . . . . . . . . . . \n",
      "17\t. . . . . . . . . . . . . a . . . . . . \n",
      "18\t. . . . . . . . . . . . . i . . . . . . \n",
      "19\te l i a . . . . . . . . . . . . . . . . \n",
      "--------------------------------------------------\n"
     ]
    }
   ],
   "source": [
    "print_board(board,0,0)"
   ]
  },
  {
   "cell_type": "markdown",
   "metadata": {},
   "source": [
    "### Maksimum Alan Bulma\n",
    "* Tahtaya yazılan kelimenin ardından, kelimenin bittiği koordinatlar ve tahtanın kendisi fonksiyona gönderilir.\n",
    "* Bitiş noktasından itibaren 4 yöne doğru bir kontrol yapar ve her yönde yazılabilecek kelime için ne kadar boşluk olduğu bilgisini döner.\n",
    "* Maksimum boşluğun hangi yöne doğru olduğunu ve kaç boşluk bulunduğu bilgisini de ajanın kullanımı için döner. "
   ]
  },
  {
   "cell_type": "code",
   "execution_count": 26,
   "metadata": {},
   "outputs": [],
   "source": [
    "def max_space(board, board_size, x,y):\n",
    "    max_space = 0\n",
    "    direction = 'x'\n",
    "    \n",
    "    each = []\n",
    "    \n",
    "    count = 1\n",
    "    for i in range(x+1,board_size):\n",
    "        if board[i][y] == ' ':\n",
    "            count += 1\n",
    "        else:\n",
    "            break\n",
    "    #print(\"down : \", count)\n",
    "    each.append(count)\n",
    "    if count > max_space:\n",
    "        max_space = count\n",
    "        direction = 'down'\n",
    "    \n",
    "    count = 1\n",
    "    ctrl = 0\n",
    "    for i in range(x-1,0,-1):\n",
    "        \n",
    "        if board[i][y] == ' ':\n",
    "            count += 1\n",
    "        else:\n",
    "            ctrl = 1\n",
    "            break\n",
    "    if ctrl == 0:\n",
    "        count += 1\n",
    "            \n",
    "    #print(\"up : \", count)       \n",
    "    each.append(count)\n",
    "    if count > max_space:\n",
    "        max_space = count\n",
    "        direction = 'up'\n",
    "    \n",
    "    count = 1\n",
    "    for i in range(y+1,board_size):\n",
    "        if board[x][i] == ' ':\n",
    "            count += 1\n",
    "        else:\n",
    "            break\n",
    "    #print(\"right : \", count)        \n",
    "    each.append(count)\n",
    "    if count > max_space:\n",
    "        max_space = count\n",
    "        direction = 'right'\n",
    "    \n",
    "    count = 1\n",
    "    ctrl = 0\n",
    "    for i in range(y-1,0,-1):\n",
    "        if board[x][i] == ' ':\n",
    "            count += 1\n",
    "        else:\n",
    "            ctrl = 1\n",
    "            break\n",
    "    if ctrl == 0:\n",
    "        count += 1\n",
    "        \n",
    "    #print(\"left : \", count)\n",
    "    each.append(count)\n",
    "    if count > max_space:\n",
    "        max_space = count\n",
    "        direction = 'left'\n",
    "        \n",
    "    return direction, max_space, each"
   ]
  },
  {
   "cell_type": "code",
   "execution_count": 27,
   "metadata": {},
   "outputs": [
    {
     "name": "stdout",
     "output_type": "stream",
     "text": [
      "--------------------------------------------------\n",
      "Sizin Skorunuz :  0\n",
      "Ajanın Skoru   :  0\n",
      "--------------------------------------------------\n",
      "0\t. . . . . . . . . . . . . . . . . . . . \n",
      "1\t. . . . . . . . . . . . . . . . . . . . \n",
      "2\t. a i l e c e k . . . . . . . . . . . . \n",
      "3\t. . . . . . . . . . . . . . . . . . . . \n",
      "4\t. . . . . . . . . . . . . . . . . . . . \n",
      "5\t. . . . . . . . . . . . . . . . . . . . \n",
      "6\t. . . . . . . . . . . . . . . . . . . . \n",
      "7\t. . . . . . . . . . . . . . . . . . . . \n",
      "8\t. . . a . . . . . . . . . . . . . . . . \n",
      "9\t. . . i . . . . . . . . . . . . . . . . \n",
      "10\t. . . l . . . . . . . . . . . . . . . . \n",
      "11\t. . . e . . . . . . . . . . . . . . . . \n",
      "12\t. . . c . . . . . . . . . . . . . . . . \n",
      "13\t. . . e . . . . . . . . . . . . . . . . \n",
      "14\t. . . k . . . . . . . . . . . . . . . . \n",
      "15\t. . . . . . . . . . . . . . . . . . . . \n",
      "16\t. . . . . . . . . . . . . . . . . . . . \n",
      "17\t. . . . . . . . . . . . . a . . . . . . \n",
      "18\t. . . . . . . . . . . . . i . . . . . . \n",
      "19\te l i a . . . . . . . . . . . . . . . . \n",
      "--------------------------------------------------\n"
     ]
    }
   ],
   "source": [
    "print_board(board,0,0)"
   ]
  },
  {
   "cell_type": "code",
   "execution_count": 28,
   "metadata": {},
   "outputs": [
    {
     "data": {
      "text/plain": [
       "('up', 18, [1, 18, 7, 14])"
      ]
     },
     "execution_count": 28,
     "metadata": {},
     "output_type": "execute_result"
    }
   ],
   "source": [
    "max_space(board=board, board_size=20, x=17, y=13)"
   ]
  },
  {
   "cell_type": "code",
   "execution_count": null,
   "metadata": {},
   "outputs": [],
   "source": []
  },
  {
   "cell_type": "markdown",
   "metadata": {},
   "source": [
    "### Oyunun Oynandığı Fonksiyon\n",
    "\n",
    "#### Oyun İşleyişi :\n",
    "* Başlangıçta oyun kullanıcıya tahta üzerinde rastgele bir nokta atar ve oyunun bu noktadan başlaması zorunludur.\n",
    "* Oyuncu sözlükte olan ve seçtiği yönde tahtaya sığabilecek bir kelimeyle oyunu başlatır.\n",
    "* Ajan oyuncunun yazdığı kelimenin son harfiyle başlayan bir kelime seçer. \n",
    "* Bu kelimeyi seçerken öncelikle tahtada gidebileceği yönlerden en boş olanı bulur ve kelimeyi ona göre seçer.\n",
    "* Aynı zamanda kelime seçimi bir önceki versiyonda olduğu gibi **min-max tree** kullanılarak yapılmaktadır.\n",
    "* Ardından oyuncu ajanın yazdığı kelimenin son harfiyle başlayan, oyun tahtasına sığabilecek ve oyunun bir önceki versiyonundaki kontrollerden geçen bir kelimeyi seçer ve tahtaya istediği yönde yazar.\n",
    "* Oyun kullanıcı '.' karakterini girene kadar veya tahtada gidilecek yer kalmayana kadar veya kullanıcı kelime seçerken 5 başarısız deneme yaparsa biter."
   ]
  },
  {
   "cell_type": "code",
   "execution_count": 29,
   "metadata": {},
   "outputs": [],
   "source": [
    "import random\n",
    "\n",
    "def game_with_board(board_size):\n",
    "    print(\"-\"*50)\n",
    "    print(\"Tahta Üzerinde Kelimelik Oyununa Hoş Geldiniz!\")\n",
    "    print(\"- Kelimeleriniz Türkçe olmalıdır.\")\n",
    "    print(\"- İlk tur hariç karşı tarafın yazdığı kelimenin bittiği yerden itibaren, tahtanın boş olan kısmına\\n'aşağı', 'yukarı', 'sağ', 'sol' yönlerinde kelimeler yazabilirsiniz.\")\n",
    "    print(\"- Başarısız deneme hakkınız 5'tir, bunun üzerinde deneme yaparsanız oyun sonlanır.\")\n",
    "    print(\"- Oyundan çıkmak için sıra sizdeyken '.' karakterini girmeniz gerekmektedir.\")\n",
    "    print(\"-\"*50)\n",
    "    print(\"\\nBaşlamak için herhangi bir tuşa basınız...\")\n",
    "    input()\n",
    "    \n",
    "    #clear_output(wait=True)\n",
    "    \n",
    "    print(\"Bir zorluk seviyesi seçiniz : \")\n",
    "    print(\"1 -> Çok Kolay\\n2 -> Kolay\\n3 -> Orta\\n4 -> Zor\\n5 -> TDK'de Çalışıyorum\")\n",
    "    difficulty = int(input())\n",
    "    while difficulty not in [1,2,3,4,5]:\n",
    "        print(\"Geçersiz zorluk düzeyi seçimi! Tekrar seçiniz...\")\n",
    "        difficulty = int(input())\n",
    "    \n",
    "    #clear_output(wait=True)\n",
    "    \n",
    "    board = make_board(board_size)\n",
    "    initial_x = random.randint(0,board_size-1)\n",
    "    initial_y = random.randint(0,board_size-1)\n",
    "    board[initial_x][initial_y] = '☐'\n",
    "    \n",
    "    user_score = 0\n",
    "    agent_score = 0\n",
    "    print_board(board, user_score, agent_score)\n",
    "    \n",
    "    toggle = 1 # 0 - user | 1 - agent\n",
    "    \n",
    "    forbidden_words = []\n",
    "    user_trying = 1\n",
    "    user_word = input('İlk kelimeyi giriniz: ')\n",
    "    if user_word == '.':\n",
    "        print(\"Çıkış yapılıyor...\")\n",
    "        return\n",
    "        \n",
    "    while (user_word[0] not in words_dict.keys()) or (user_word not in words_dict[user_word[0]]):\n",
    "        if (user_word[0] not in words_dict.keys()):\n",
    "            print(\"Türkçe karakterler kullanınız!\")\n",
    "            user_word = input('İlk kelimeyi giriniz: ')\n",
    "        elif (user_word not in words_dict[user_word[0]]):\n",
    "            print(\"Sözlükte bulunan bir kelime giriniz...\")\n",
    "            user_word = input('İlk kelimeyi giriniz: ')\n",
    "        if user_word == '.':\n",
    "            print(\"Çıkış yapılıyor...\")\n",
    "            return\n",
    "        user_trying += 1\n",
    "        if user_trying >= 5:\n",
    "            print('Deneme Hakkınız ve Oyun Bitti!')\n",
    "            if agent_score>=user_score:\n",
    "                print(\"Ajan Kazandı!\")\n",
    "            else:\n",
    "                print(\"Siz Kazandınız!\")\n",
    "            return\n",
    "\n",
    "    ctrl_dir = False\n",
    "    while ctrl_dir == False:\n",
    "        direction  = input(\"Yön seçiniz : \")\n",
    "        if direction == \"sağ\":\n",
    "            ctrl_dir,last_x,last_y = put_board(board,board_size,user_word, initial_x, initial_y, 'right')\n",
    "        elif direction == \"sol\":\n",
    "            ctrl_dir,last_x,last_y = put_board(board,board_size,user_word, initial_x, initial_y, 'left')\n",
    "        elif direction == \"yukarı\":\n",
    "            ctrl_dir,last_x,last_y = put_board(board,board_size,user_word, initial_x, initial_y, 'up')\n",
    "        elif direction == \"aşağı\":\n",
    "            ctrl_dir,last_x,last_y = put_board(board,board_size,user_word, initial_x, initial_y, 'down')\n",
    "        else:\n",
    "            print(\"Yön olarak aşağı, yukarı, sağ veya sol giriniz!\")\n",
    "    \n",
    "    user_score = scoring(user_word)\n",
    "    forbidden_words.append(user_word)\n",
    "    agent_score = 0\n",
    "    #clear_output(wait=True)\n",
    "    print_board(board, user_score, agent_score)\n",
    "    \n",
    "    while(True):\n",
    "        if toggle == 1:\n",
    "            print(\"Ajan düşünüyor...\")\n",
    "            root = create_tree(user_word, difficulty)\n",
    "            #print(last_x,last_y)\n",
    "            direction, max_len, each = max_space(board,board_size, last_x, last_y)\n",
    "            agent_word = choose_best_word(root, forbidden_words, max_len)\n",
    "            \n",
    "            if agent_word == 'a':\n",
    "                print('Ajanı Köşeye Sıkıştırdınız!')\n",
    "                if agent_score>=user_score:\n",
    "                    print(\"Ajan Kazandı!\")\n",
    "                else:\n",
    "                    print(\"Siz Kazandınız!\")                \n",
    "                return\n",
    "            \n",
    "            print(\"Ajanın Kelimesi : \", agent_word)\n",
    "            \n",
    "            if direction == 'right':\n",
    "                _,last_x,last_y = put_board(board,board_size,agent_word[1:], start_x=last_x, start_y=last_y+1,direction=direction)\n",
    "            elif direction == 'left':\n",
    "                _,last_x,last_y = put_board(board,board_size,agent_word[1:], start_x=last_x, start_y=last_y-1,direction=direction)\n",
    "            elif direction == 'up':\n",
    "                _,last_x,last_y = put_board(board,board_size,agent_word[1:], start_x=last_x-1, start_y=last_y,direction=direction)\n",
    "            elif direction == 'down':\n",
    "                _,last_x,last_y = put_board(board,board_size,agent_word[1:], start_x=last_x+1, start_y=last_y,direction=direction)\n",
    "            \n",
    "            agent_score += scoring(agent_word)\n",
    "            toggle = 0\n",
    "            #clear_output(wait=True)\n",
    "            print_board(board,user_score,agent_score)\n",
    "            \n",
    "            forbidden_words.append(agent_word)\n",
    "            \n",
    "            if len([i for i in each if i < 2]) == 4:\n",
    "                print('Oyun Bitti!')\n",
    "                if agent_score>=user_score:\n",
    "                    print(\"Ajan Kazandı!\")\n",
    "                else:\n",
    "                    print(\"Siz Kazandınız!\")\n",
    "                return\n",
    "        \n",
    "        _, max_len, _= max_space(board,board_size, last_x, last_y)\n",
    "        user_trying = 1\n",
    "        if toggle == 0:            \n",
    "            user_word = input('Kelimeniz: ')\n",
    "            if user_word == '.':\n",
    "                print(\"Çıkış yapılıyor...\")\n",
    "                return\n",
    "            #print(user_word not in words_dict[user_word[0]])\n",
    "            while (user_word[0] not in words_dict.keys()) or (user_word not in words_dict[user_word[0]]) or (user_word[0] != agent_word[-1]) or (user_word in forbidden_words) or (len(user_word) > max_len):\n",
    "                if (user_word[0] not in words_dict.keys()):\n",
    "                    print(\"Türkçe karakterler kullanınız!\")\n",
    "                elif (user_word[0] != agent_word[-1]):\n",
    "                    print(\"Son kelimenin son harfiyle başlayan bir kelime giriniz!\")\n",
    "                elif (user_word not in words_dict[user_word[0]]):\n",
    "                    print(\"Sözlükte bulunan bir kelime giriniz!\")\n",
    "                elif (user_word in forbidden_words):\n",
    "                    print(\"Daha önce kullanılmayan bir kelime giriniz!\")\n",
    "                elif (len(user_word) > max_len):\n",
    "                    print(\"Bu kelime hiçbir yönde yazılamaz!\")\n",
    "                user_trying += 1\n",
    "                if user_trying >= 5:\n",
    "                    print('Deneme Hakkınız ve Oyun Bitti!')\n",
    "                    if agent_score>=user_score:\n",
    "                        print(\"Ajan Kazandı!\")\n",
    "                    else:\n",
    "                        print(\"Siz Kazandınız!\")\n",
    "                    return\n",
    "                user_word = input('Kelimeniz: ')\n",
    "                if user_word == '.':\n",
    "                    print(\"Çıkış yapılıyor...\")\n",
    "                    return\n",
    "            #print(\"Last X = \",last_x, \"Last Y = \", last_y)\n",
    "            ctrl_dir = False\n",
    "            while ctrl_dir == False:\n",
    "                direction  = input(\"Yön seçiniz : \")\n",
    "                if direction == \"sağ\":\n",
    "                    ctrl_dir,last_x_tmp,last_y_tmp = put_board(board,board_size,user_word[1:], last_x, last_y+1, 'right')\n",
    "                elif direction == \"sol\":\n",
    "                    ctrl_dir,last_x_tmp,last_y_tmp = put_board(board,board_size,user_word[1:], last_x, last_y-1, 'left')\n",
    "                elif direction == \"yukarı\":\n",
    "                    ctrl_dir,last_x_tmp,last_y_tmp = put_board(board,board_size,user_word[1:], last_x-1, last_y, 'up')\n",
    "                elif direction == \"aşağı\":\n",
    "                    ctrl_dir,last_x_tmp,last_y_tmp = put_board(board,board_size,user_word[1:], last_x+1, last_y, 'down')\n",
    "                else:\n",
    "                    print(\"Yön olarak aşağı, yukarı, sağ veya sol giriniz!\")\n",
    "\n",
    "            forbidden_words.append(user_word)\n",
    "            user_score += scoring(user_word)\n",
    "            toggle = 1\n",
    "            \n",
    "            #clear_output(wait=True)\n",
    "            print_board(board, user_score, agent_score)\n",
    "            last_x, last_y = last_x_tmp, last_y_tmp\n",
    "            if len([i for i in each if i < 2]) == 4:\n",
    "                print('Oyun Bitti!')\n",
    "                if agent_score>user_score:\n",
    "                    print(\"Ajan Kazandı!\")\n",
    "                else:\n",
    "                    print(\"Siz Kazandınız!\")\n",
    "                return"
   ]
  },
  {
   "cell_type": "code",
   "execution_count": null,
   "metadata": {},
   "outputs": [],
   "source": []
  },
  {
   "cell_type": "code",
   "execution_count": 31,
   "metadata": {},
   "outputs": [
    {
     "name": "stdout",
     "output_type": "stream",
     "text": [
      "--------------------------------------------------\n",
      "Tahta Üzerinde Kelimelik Oyununa Hoş Geldiniz!\n",
      "- Kelimeleriniz Türkçe olmalıdır.\n",
      "- İlk tur hariç karşı tarafın yazdığı kelimenin bittiği yerden itibaren, tahtanın boş olan kısmına\n",
      "'aşağı', 'yukarı', 'sağ', 'sol' yönlerinde kelimeler yazabilirsiniz.\n",
      "- Başarısız deneme hakkınız 5'tir, bunun üzerinde deneme yaparsanız oyun sonlanır.\n",
      "- Oyundan çıkmak için sıra sizdeyken '.' karakterini girmeniz gerekmektedir.\n",
      "--------------------------------------------------\n",
      "\n",
      "Başlamak için herhangi bir tuşa basınız...\n"
     ]
    },
    {
     "name": "stdin",
     "output_type": "stream",
     "text": [
      " \n"
     ]
    },
    {
     "name": "stdout",
     "output_type": "stream",
     "text": [
      "Bir zorluk seviyesi seçiniz : \n",
      "1 -> Çok Kolay\n",
      "2 -> Kolay\n",
      "3 -> Orta\n",
      "4 -> Zor\n",
      "5 -> TDK'de Çalışıyorum\n"
     ]
    },
    {
     "name": "stdin",
     "output_type": "stream",
     "text": [
      " 2\n"
     ]
    },
    {
     "name": "stdout",
     "output_type": "stream",
     "text": [
      "--------------------------------------------------\n",
      "Sizin Skorunuz :  0\n",
      "Ajanın Skoru   :  0\n",
      "--------------------------------------------------\n",
      "0\t. . . . . . . . . . . . . . . . . . . . \n",
      "1\t. . . . . ☐ . . . . . . . . . . . . . . \n",
      "2\t. . . . . . . . . . . . . . . . . . . . \n",
      "3\t. . . . . . . . . . . . . . . . . . . . \n",
      "4\t. . . . . . . . . . . . . . . . . . . . \n",
      "5\t. . . . . . . . . . . . . . . . . . . . \n",
      "6\t. . . . . . . . . . . . . . . . . . . . \n",
      "7\t. . . . . . . . . . . . . . . . . . . . \n",
      "8\t. . . . . . . . . . . . . . . . . . . . \n",
      "9\t. . . . . . . . . . . . . . . . . . . . \n",
      "10\t. . . . . . . . . . . . . . . . . . . . \n",
      "11\t. . . . . . . . . . . . . . . . . . . . \n",
      "12\t. . . . . . . . . . . . . . . . . . . . \n",
      "13\t. . . . . . . . . . . . . . . . . . . . \n",
      "14\t. . . . . . . . . . . . . . . . . . . . \n",
      "15\t. . . . . . . . . . . . . . . . . . . . \n",
      "16\t. . . . . . . . . . . . . . . . . . . . \n",
      "17\t. . . . . . . . . . . . . . . . . . . . \n",
      "18\t. . . . . . . . . . . . . . . . . . . . \n",
      "19\t. . . . . . . . . . . . . . . . . . . . \n",
      "--------------------------------------------------\n"
     ]
    },
    {
     "name": "stdin",
     "output_type": "stream",
     "text": [
      "İlk kelimeyi giriniz:  saman\n",
      "Yön seçiniz :  sol\n"
     ]
    },
    {
     "name": "stdout",
     "output_type": "stream",
     "text": [
      "--------------------------------------------------\n",
      "Sizin Skorunuz :  7\n",
      "Ajanın Skoru   :  0\n",
      "--------------------------------------------------\n",
      "0\t. . . . . . . . . . . . . . . . . . . . \n",
      "1\t. n a m a s . . . . . . . . . . . . . . \n",
      "2\t. . . . . . . . . . . . . . . . . . . . \n",
      "3\t. . . . . . . . . . . . . . . . . . . . \n",
      "4\t. . . . . . . . . . . . . . . . . . . . \n",
      "5\t. . . . . . . . . . . . . . . . . . . . \n",
      "6\t. . . . . . . . . . . . . . . . . . . . \n",
      "7\t. . . . . . . . . . . . . . . . . . . . \n",
      "8\t. . . . . . . . . . . . . . . . . . . . \n",
      "9\t. . . . . . . . . . . . . . . . . . . . \n",
      "10\t. . . . . . . . . . . . . . . . . . . . \n",
      "11\t. . . . . . . . . . . . . . . . . . . . \n",
      "12\t. . . . . . . . . . . . . . . . . . . . \n",
      "13\t. . . . . . . . . . . . . . . . . . . . \n",
      "14\t. . . . . . . . . . . . . . . . . . . . \n",
      "15\t. . . . . . . . . . . . . . . . . . . . \n",
      "16\t. . . . . . . . . . . . . . . . . . . . \n",
      "17\t. . . . . . . . . . . . . . . . . . . . \n",
      "18\t. . . . . . . . . . . . . . . . . . . . \n",
      "19\t. . . . . . . . . . . . . . . . . . . . \n",
      "--------------------------------------------------\n",
      "Ajan düşünüyor...\n",
      "Ajanın Kelimesi :  namazlağı\n",
      "--------------------------------------------------\n",
      "Sizin Skorunuz :  7\n",
      "Ajanın Skoru   :  21\n",
      "--------------------------------------------------\n",
      "0\t. . . . . . . . . . . . . . . . . . . . \n",
      "1\t. n a m a s . . . . . . . . . . . . . . \n",
      "2\t. a . . . . . . . . . . . . . . . . . . \n",
      "3\t. m . . . . . . . . . . . . . . . . . . \n",
      "4\t. a . . . . . . . . . . . . . . . . . . \n",
      "5\t. z . . . . . . . . . . . . . . . . . . \n",
      "6\t. l . . . . . . . . . . . . . . . . . . \n",
      "7\t. a . . . . . . . . . . . . . . . . . . \n",
      "8\t. ğ . . . . . . . . . . . . . . . . . . \n",
      "9\t. ı . . . . . . . . . . . . . . . . . . \n",
      "10\t. . . . . . . . . . . . . . . . . . . . \n",
      "11\t. . . . . . . . . . . . . . . . . . . . \n",
      "12\t. . . . . . . . . . . . . . . . . . . . \n",
      "13\t. . . . . . . . . . . . . . . . . . . . \n",
      "14\t. . . . . . . . . . . . . . . . . . . . \n",
      "15\t. . . . . . . . . . . . . . . . . . . . \n",
      "16\t. . . . . . . . . . . . . . . . . . . . \n",
      "17\t. . . . . . . . . . . . . . . . . . . . \n",
      "18\t. . . . . . . . . . . . . . . . . . . . \n",
      "19\t. . . . . . . . . . . . . . . . . . . . \n",
      "--------------------------------------------------\n"
     ]
    },
    {
     "name": "stdin",
     "output_type": "stream",
     "text": [
      "Kelimeniz:  ılıman\n",
      "Yön seçiniz :  sağ\n"
     ]
    },
    {
     "name": "stdout",
     "output_type": "stream",
     "text": [
      "--------------------------------------------------\n",
      "Sizin Skorunuz :  16\n",
      "Ajanın Skoru   :  21\n",
      "--------------------------------------------------\n",
      "0\t. . . . . . . . . . . . . . . . . . . . \n",
      "1\t. n a m a s . . . . . . . . . . . . . . \n",
      "2\t. a . . . . . . . . . . . . . . . . . . \n",
      "3\t. m . . . . . . . . . . . . . . . . . . \n",
      "4\t. a . . . . . . . . . . . . . . . . . . \n",
      "5\t. z . . . . . . . . . . . . . . . . . . \n",
      "6\t. l . . . . . . . . . . . . . . . . . . \n",
      "7\t. a . . . . . . . . . . . . . . . . . . \n",
      "8\t. ğ . . . . . . . . . . . . . . . . . . \n",
      "9\t. ı l ı m a n . . . . . . . . . . . . . \n",
      "10\t. . . . . . . . . . . . . . . . . . . . \n",
      "11\t. . . . . . . . . . . . . . . . . . . . \n",
      "12\t. . . . . . . . . . . . . . . . . . . . \n",
      "13\t. . . . . . . . . . . . . . . . . . . . \n",
      "14\t. . . . . . . . . . . . . . . . . . . . \n",
      "15\t. . . . . . . . . . . . . . . . . . . . \n",
      "16\t. . . . . . . . . . . . . . . . . . . . \n",
      "17\t. . . . . . . . . . . . . . . . . . . . \n",
      "18\t. . . . . . . . . . . . . . . . . . . . \n",
      "19\t. . . . . . . . . . . . . . . . . . . . \n",
      "--------------------------------------------------\n",
      "Ajan düşünüyor...\n",
      "Ajanın Kelimesi :  nisanbalığı\n",
      "--------------------------------------------------\n",
      "Sizin Skorunuz :  16\n",
      "Ajanın Skoru   :  44\n",
      "--------------------------------------------------\n",
      "0\t. . . . . . . . . . . . . . . . . . . . \n",
      "1\t. n a m a s . . . . . . . . . . . . . . \n",
      "2\t. a . . . . . . . . . . . . . . . . . . \n",
      "3\t. m . . . . . . . . . . . . . . . . . . \n",
      "4\t. a . . . . . . . . . . . . . . . . . . \n",
      "5\t. z . . . . . . . . . . . . . . . . . . \n",
      "6\t. l . . . . . . . . . . . . . . . . . . \n",
      "7\t. a . . . . . . . . . . . . . . . . . . \n",
      "8\t. ğ . . . . . . . . . . . . . . . . . . \n",
      "9\t. ı l ı m a n i s a n b a l ı ğ ı . . . \n",
      "10\t. . . . . . . . . . . . . . . . . . . . \n",
      "11\t. . . . . . . . . . . . . . . . . . . . \n",
      "12\t. . . . . . . . . . . . . . . . . . . . \n",
      "13\t. . . . . . . . . . . . . . . . . . . . \n",
      "14\t. . . . . . . . . . . . . . . . . . . . \n",
      "15\t. . . . . . . . . . . . . . . . . . . . \n",
      "16\t. . . . . . . . . . . . . . . . . . . . \n",
      "17\t. . . . . . . . . . . . . . . . . . . . \n",
      "18\t. . . . . . . . . . . . . . . . . . . . \n",
      "19\t. . . . . . . . . . . . . . . . . . . . \n",
      "--------------------------------------------------\n"
     ]
    },
    {
     "name": "stdin",
     "output_type": "stream",
     "text": [
      "Kelimeniz:  ıspanak\n",
      "Yön seçiniz :  aşağı\n"
     ]
    },
    {
     "name": "stdout",
     "output_type": "stream",
     "text": [
      "--------------------------------------------------\n",
      "Sizin Skorunuz :  29\n",
      "Ajanın Skoru   :  44\n",
      "--------------------------------------------------\n",
      "0\t. . . . . . . . . . . . . . . . . . . . \n",
      "1\t. n a m a s . . . . . . . . . . . . . . \n",
      "2\t. a . . . . . . . . . . . . . . . . . . \n",
      "3\t. m . . . . . . . . . . . . . . . . . . \n",
      "4\t. a . . . . . . . . . . . . . . . . . . \n",
      "5\t. z . . . . . . . . . . . . . . . . . . \n",
      "6\t. l . . . . . . . . . . . . . . . . . . \n",
      "7\t. a . . . . . . . . . . . . . . . . . . \n",
      "8\t. ğ . . . . . . . . . . . . . . . . . . \n",
      "9\t. ı l ı m a n i s a n b a l ı ğ ı . . . \n",
      "10\t. . . . . . . . . . . . . . . . s . . . \n",
      "11\t. . . . . . . . . . . . . . . . p . . . \n",
      "12\t. . . . . . . . . . . . . . . . a . . . \n",
      "13\t. . . . . . . . . . . . . . . . n . . . \n",
      "14\t. . . . . . . . . . . . . . . . a . . . \n",
      "15\t. . . . . . . . . . . . . . . . k . . . \n",
      "16\t. . . . . . . . . . . . . . . . . . . . \n",
      "17\t. . . . . . . . . . . . . . . . . . . . \n",
      "18\t. . . . . . . . . . . . . . . . . . . . \n",
      "19\t. . . . . . . . . . . . . . . . . . . . \n",
      "--------------------------------------------------\n",
      "Ajan düşünüyor...\n",
      "Ajanın Kelimesi :  katranköpüğü\n",
      "--------------------------------------------------\n",
      "Sizin Skorunuz :  29\n",
      "Ajanın Skoru   :  77\n",
      "--------------------------------------------------\n",
      "0\t. . . . . . . . . . . . . . . . . . . . \n",
      "1\t. n a m a s . . . . . . . . . . . . . . \n",
      "2\t. a . . . . . . . . . . . . . . . . . . \n",
      "3\t. m . . . . . . . . . . . . . . . . . . \n",
      "4\t. a . . . . . . . . . . . . . . . . . . \n",
      "5\t. z . . . . . . . . . . . . . . . . . . \n",
      "6\t. l . . . . . . . . . . . . . . . . . . \n",
      "7\t. a . . . . . . . . . . . . . . . . . . \n",
      "8\t. ğ . . . . . . . . . . . . . . . . . . \n",
      "9\t. ı l ı m a n i s a n b a l ı ğ ı . . . \n",
      "10\t. . . . . . . . . . . . . . . . s . . . \n",
      "11\t. . . . . . . . . . . . . . . . p . . . \n",
      "12\t. . . . . . . . . . . . . . . . a . . . \n",
      "13\t. . . . . . . . . . . . . . . . n . . . \n",
      "14\t. . . . . . . . . . . . . . . . a . . . \n",
      "15\t. . . . . ü ğ ü p ö k n a r t a k . . . \n",
      "16\t. . . . . . . . . . . . . . . . . . . . \n",
      "17\t. . . . . . . . . . . . . . . . . . . . \n",
      "18\t. . . . . . . . . . . . . . . . . . . . \n",
      "19\t. . . . . . . . . . . . . . . . . . . . \n",
      "--------------------------------------------------\n"
     ]
    },
    {
     "name": "stdin",
     "output_type": "stream",
     "text": [
      "Kelimeniz:  üstüpü\n",
      "Yön seçiniz :  sol\n"
     ]
    },
    {
     "name": "stdout",
     "output_type": "stream",
     "text": [
      "--------------------------------------------------\n",
      "Sizin Skorunuz :  46\n",
      "Ajanın Skoru   :  77\n",
      "--------------------------------------------------\n",
      "0\t. . . . . . . . . . . . . . . . . . . . \n",
      "1\t. n a m a s . . . . . . . . . . . . . . \n",
      "2\t. a . . . . . . . . . . . . . . . . . . \n",
      "3\t. m . . . . . . . . . . . . . . . . . . \n",
      "4\t. a . . . . . . . . . . . . . . . . . . \n",
      "5\t. z . . . . . . . . . . . . . . . . . . \n",
      "6\t. l . . . . . . . . . . . . . . . . . . \n",
      "7\t. a . . . . . . . . . . . . . . . . . . \n",
      "8\t. ğ . . . . . . . . . . . . . . . . . . \n",
      "9\t. ı l ı m a n i s a n b a l ı ğ ı . . . \n",
      "10\t. . . . . . . . . . . . . . . . s . . . \n",
      "11\t. . . . . . . . . . . . . . . . p . . . \n",
      "12\t. . . . . . . . . . . . . . . . a . . . \n",
      "13\t. . . . . . . . . . . . . . . . n . . . \n",
      "14\t. . . . . . . . . . . . . . . . a . . . \n",
      "15\tü p ü t s ü ğ ü p ö k n a r t a k . . . \n",
      "16\t. . . . . . . . . . . . . . . . . . . . \n",
      "17\t. . . . . . . . . . . . . . . . . . . . \n",
      "18\t. . . . . . . . . . . . . . . . . . . . \n",
      "19\t. . . . . . . . . . . . . . . . . . . . \n",
      "--------------------------------------------------\n",
      "Ajan düşünüyor...\n",
      "Ajanın Kelimesi :  üçkağıtçı\n",
      "--------------------------------------------------\n",
      "Sizin Skorunuz :  46\n",
      "Ajanın Skoru   :  103\n",
      "--------------------------------------------------\n",
      "0\t. . . . . . . . . . . . . . . . . . . . \n",
      "1\t. n a m a s . . . . . . . . . . . . . . \n",
      "2\t. a . . . . . . . . . . . . . . . . . . \n",
      "3\t. m . . . . . . . . . . . . . . . . . . \n",
      "4\t. a . . . . . . . . . . . . . . . . . . \n",
      "5\t. z . . . . . . . . . . . . . . . . . . \n",
      "6\t. l . . . . . . . . . . . . . . . . . . \n",
      "7\tı a . . . . . . . . . . . . . . . . . . \n",
      "8\tç ğ . . . . . . . . . . . . . . . . . . \n",
      "9\tt ı l ı m a n i s a n b a l ı ğ ı . . . \n",
      "10\tı . . . . . . . . . . . . . . . s . . . \n",
      "11\tğ . . . . . . . . . . . . . . . p . . . \n",
      "12\ta . . . . . . . . . . . . . . . a . . . \n",
      "13\tk . . . . . . . . . . . . . . . n . . . \n",
      "14\tç . . . . . . . . . . . . . . . a . . . \n",
      "15\tü p ü t s ü ğ ü p ö k n a r t a k . . . \n",
      "16\t. . . . . . . . . . . . . . . . . . . . \n",
      "17\t. . . . . . . . . . . . . . . . . . . . \n",
      "18\t. . . . . . . . . . . . . . . . . . . . \n",
      "19\t. . . . . . . . . . . . . . . . . . . . \n",
      "--------------------------------------------------\n"
     ]
    },
    {
     "name": "stdin",
     "output_type": "stream",
     "text": [
      "Kelimeniz:  ıstakoz\n",
      "Yön seçiniz :  yukarı\n"
     ]
    },
    {
     "name": "stdout",
     "output_type": "stream",
     "text": [
      "--------------------------------------------------\n",
      "Sizin Skorunuz :  59\n",
      "Ajanın Skoru   :  103\n",
      "--------------------------------------------------\n",
      "0\t. . . . . . . . . . . . . . . . . . . . \n",
      "1\tz n a m a s . . . . . . . . . . . . . . \n",
      "2\to a . . . . . . . . . . . . . . . . . . \n",
      "3\tk m . . . . . . . . . . . . . . . . . . \n",
      "4\ta a . . . . . . . . . . . . . . . . . . \n",
      "5\tt z . . . . . . . . . . . . . . . . . . \n",
      "6\ts l . . . . . . . . . . . . . . . . . . \n",
      "7\tı a . . . . . . . . . . . . . . . . . . \n",
      "8\tç ğ . . . . . . . . . . . . . . . . . . \n",
      "9\tt ı l ı m a n i s a n b a l ı ğ ı . . . \n",
      "10\tı . . . . . . . . . . . . . . . s . . . \n",
      "11\tğ . . . . . . . . . . . . . . . p . . . \n",
      "12\ta . . . . . . . . . . . . . . . a . . . \n",
      "13\tk . . . . . . . . . . . . . . . n . . . \n",
      "14\tç . . . . . . . . . . . . . . . a . . . \n",
      "15\tü p ü t s ü ğ ü p ö k n a r t a k . . . \n",
      "16\t. . . . . . . . . . . . . . . . . . . . \n",
      "17\t. . . . . . . . . . . . . . . . . . . . \n",
      "18\t. . . . . . . . . . . . . . . . . . . . \n",
      "19\t. . . . . . . . . . . . . . . . . . . . \n",
      "--------------------------------------------------\n",
      "Ajan düşünüyor...\n",
      "Ajanı Köşeye Sıkıştırdınız!\n",
      "Ajan Kazandı!\n"
     ]
    }
   ],
   "source": [
    "game_with_board(board_size=20)"
   ]
  },
  {
   "cell_type": "markdown",
   "metadata": {},
   "source": [
    "* Ajan veya oyuncu köşeye sıkıştığında veya yazılabilecek kelime kalmadığında oyunu puanı çok olan kazanmaktadır."
   ]
  },
  {
   "cell_type": "code",
   "execution_count": null,
   "metadata": {},
   "outputs": [],
   "source": []
  }
 ],
 "metadata": {
  "kernelspec": {
   "display_name": "Python 3",
   "language": "python",
   "name": "python3"
  },
  "language_info": {
   "codemirror_mode": {
    "name": "ipython",
    "version": 3
   },
   "file_extension": ".py",
   "mimetype": "text/x-python",
   "name": "python",
   "nbconvert_exporter": "python",
   "pygments_lexer": "ipython3",
   "version": "3.7.6"
  }
 },
 "nbformat": 4,
 "nbformat_minor": 4
}
